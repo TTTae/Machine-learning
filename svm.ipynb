{
 "cells": [
  {
   "cell_type": "code",
   "execution_count": 2,
   "metadata": {
    "collapsed": true,
    "pycharm": {
     "is_executing": false
    }
   },
   "outputs": [],
   "source": [
    "from data_utils import *\n",
    "import matplotlib.pyplot as plt\n",
    "from grad_check import *\n",
    "from linear_classifier import *"
   ]
  },
  {
   "cell_type": "code",
   "execution_count": 5,
   "outputs": [
    {
     "name": "stdout",
     "text": [
      "Training data shape:  [[[[ 59.  62.  63.]\n   [ 43.  46.  45.]\n   [ 50.  48.  43.]\n   ...\n   [158. 132. 108.]\n   [152. 125. 102.]\n   [148. 124. 103.]]\n\n  [[ 16.  20.  20.]\n   [  0.   0.   0.]\n   [ 18.   8.   0.]\n   ...\n   [123.  88.  55.]\n   [119.  83.  50.]\n   [122.  87.  57.]]\n\n  [[ 25.  24.  21.]\n   [ 16.   7.   0.]\n   [ 49.  27.   8.]\n   ...\n   [118.  84.  50.]\n   [120.  84.  50.]\n   [109.  73.  42.]]\n\n  ...\n\n  [[208. 170.  96.]\n   [201. 153.  34.]\n   [198. 161.  26.]\n   ...\n   [160. 133.  70.]\n   [ 56.  31.   7.]\n   [ 53.  34.  20.]]\n\n  [[180. 139.  96.]\n   [173. 123.  42.]\n   [186. 144.  30.]\n   ...\n   [184. 148.  94.]\n   [ 97.  62.  34.]\n   [ 83.  53.  34.]]\n\n  [[177. 144. 116.]\n   [168. 129.  94.]\n   [179. 142.  87.]\n   ...\n   [216. 184. 140.]\n   [151. 118.  84.]\n   [123.  92.  72.]]]\n\n\n [[[154. 177. 187.]\n   [126. 137. 136.]\n   [105. 104.  95.]\n   ...\n   [ 91.  95.  71.]\n   [ 87.  90.  71.]\n   [ 79.  81.  70.]]\n\n  [[140. 160. 169.]\n   [145. 153. 154.]\n   [125. 125. 118.]\n   ...\n   [ 96.  99.  78.]\n   [ 77.  80.  62.]\n   [ 71.  73.  61.]]\n\n  [[140. 155. 164.]\n   [139. 146. 149.]\n   [115. 115. 112.]\n   ...\n   [ 79.  82.  64.]\n   [ 68.  70.  55.]\n   [ 67.  69.  55.]]\n\n  ...\n\n  [[175. 167. 166.]\n   [156. 154. 160.]\n   [154. 160. 170.]\n   ...\n   [ 42.  34.  36.]\n   [ 61.  53.  57.]\n   [ 93.  83.  91.]]\n\n  [[165. 154. 128.]\n   [156. 152. 130.]\n   [159. 161. 142.]\n   ...\n   [103.  93.  96.]\n   [123. 114. 120.]\n   [131. 121. 131.]]\n\n  [[163. 148. 120.]\n   [158. 148. 122.]\n   [163. 156. 133.]\n   ...\n   [143. 133. 139.]\n   [143. 134. 142.]\n   [143. 133. 144.]]]\n\n\n [[[255. 255. 255.]\n   [253. 253. 253.]\n   [253. 253. 253.]\n   ...\n   [253. 253. 253.]\n   [253. 253. 253.]\n   [253. 253. 253.]]\n\n  [[255. 255. 255.]\n   [255. 255. 255.]\n   [255. 255. 255.]\n   ...\n   [255. 255. 255.]\n   [255. 255. 255.]\n   [255. 255. 255.]]\n\n  [[255. 255. 255.]\n   [254. 254. 254.]\n   [254. 254. 254.]\n   ...\n   [254. 254. 254.]\n   [254. 254. 254.]\n   [254. 254. 254.]]\n\n  ...\n\n  [[113. 120. 112.]\n   [111. 118. 111.]\n   [105. 112. 106.]\n   ...\n   [ 72.  81.  80.]\n   [ 72.  80.  79.]\n   [ 72.  80.  79.]]\n\n  [[111. 118. 110.]\n   [104. 111. 104.]\n   [ 99. 106.  98.]\n   ...\n   [ 68.  75.  73.]\n   [ 70.  76.  75.]\n   [ 78.  84.  82.]]\n\n  [[106. 113. 105.]\n   [ 99. 106.  98.]\n   [ 95. 102.  94.]\n   ...\n   [ 78.  85.  83.]\n   [ 79.  85.  83.]\n   [ 80.  86.  84.]]]\n\n\n ...\n\n\n [[[ 35. 178. 235.]\n   [ 40. 176. 239.]\n   [ 42. 176. 241.]\n   ...\n   [ 99. 177. 219.]\n   [ 79. 147. 197.]\n   [ 89. 148. 189.]]\n\n  [[ 57. 182. 234.]\n   [ 44. 184. 250.]\n   [ 50. 183. 240.]\n   ...\n   [156. 182. 200.]\n   [141. 177. 206.]\n   [116. 149. 175.]]\n\n  [[ 98. 197. 237.]\n   [ 64. 189. 252.]\n   [ 69. 192. 245.]\n   ...\n   [188. 195. 206.]\n   [119. 135. 147.]\n   [ 61.  79.  90.]]\n\n  ...\n\n  [[ 73.  79.  77.]\n   [ 53.  63.  68.]\n   [ 54.  68.  80.]\n   ...\n   [ 17.  40.  64.]\n   [ 21.  36.  51.]\n   [ 33.  48.  49.]]\n\n  [[ 61.  68.  75.]\n   [ 55.  70.  86.]\n   [ 57.  79. 103.]\n   ...\n   [ 24.  48.  72.]\n   [ 17.  35.  53.]\n   [  7.  23.  32.]]\n\n  [[ 44.  56.  73.]\n   [ 46.  66.  88.]\n   [ 49.  77. 105.]\n   ...\n   [ 27.  52.  77.]\n   [ 21.  43.  66.]\n   [ 12.  31.  50.]]]\n\n\n [[[189. 211. 240.]\n   [186. 208. 236.]\n   [185. 207. 235.]\n   ...\n   [175. 195. 224.]\n   [172. 194. 222.]\n   [169. 194. 220.]]\n\n  [[194. 210. 239.]\n   [191. 207. 236.]\n   [190. 206. 235.]\n   ...\n   [173. 192. 220.]\n   [171. 191. 218.]\n   [167. 190. 216.]]\n\n  [[208. 219. 244.]\n   [205. 216. 240.]\n   [204. 215. 239.]\n   ...\n   [175. 191. 217.]\n   [172. 190. 216.]\n   [169. 191. 215.]]\n\n  ...\n\n  [[207. 199. 181.]\n   [203. 195. 175.]\n   [203. 196. 173.]\n   ...\n   [135. 132. 127.]\n   [162. 158. 150.]\n   [168. 163. 151.]]\n\n  [[198. 190. 170.]\n   [189. 181. 159.]\n   [180. 172. 147.]\n   ...\n   [178. 171. 160.]\n   [175. 169. 156.]\n   [175. 169. 154.]]\n\n  [[198. 189. 173.]\n   [189. 181. 162.]\n   [178. 170. 149.]\n   ...\n   [195. 184. 169.]\n   [196. 189. 171.]\n   [195. 190. 171.]]]\n\n\n [[[229. 229. 239.]\n   [236. 237. 247.]\n   [234. 236. 247.]\n   ...\n   [217. 219. 233.]\n   [221. 223. 234.]\n   [222. 223. 233.]]\n\n  [[222. 221. 229.]\n   [239. 239. 249.]\n   [233. 234. 246.]\n   ...\n   [223. 223. 236.]\n   [227. 228. 238.]\n   [210. 211. 220.]]\n\n  [[213. 206. 211.]\n   [234. 232. 239.]\n   [231. 233. 244.]\n   ...\n   [220. 220. 232.]\n   [220. 219. 232.]\n   [202. 203. 215.]]\n\n  ...\n\n  [[150. 143. 135.]\n   [140. 135. 127.]\n   [132. 127. 120.]\n   ...\n   [224. 222. 218.]\n   [230. 228. 225.]\n   [241. 241. 238.]]\n\n  [[137. 132. 126.]\n   [130. 127. 120.]\n   [125. 121. 115.]\n   ...\n   [181. 180. 178.]\n   [202. 201. 198.]\n   [212. 211. 207.]]\n\n  [[122. 119. 114.]\n   [118. 116. 110.]\n   [120. 116. 111.]\n   ...\n   [179. 177. 173.]\n   [164. 164. 162.]\n   [163. 163. 161.]]]]\nTraining labels shape:  (50000,)\nTest data shape:  (10000, 32, 32, 3)\nTest labels shape:  (10000,)\n",
      "Train data shape:  (49000, 32, 32, 3)\nTrain labels shape:  (49000,)\nValidation data shape:  (1000, 32, 32, 3)\nValidation labels shape:  (1000,)\nTest data shape:  (1000, 32, 32, 3)\nTest labels shape:  (1000,)\n",
      "Training data shape:  (49000, 3072)\nValidation data shape:  (1000, 3072)\nTest data shape:  (1000, 3072)\ndev data shape:  (500, 3072)\n",
      "(49000, 3073) (1000, 3073) (1000, 3073) (500, 3073)\nnumerical: -18.591511 analytic: -18.591511, relative error: 1.894308e-12\nnumerical: -33.631563 analytic: -33.631563, relative error: 6.232541e-15\nnumerical: 12.627194 analytic: 12.627194, relative error: 3.589376e-13\nnumerical: -30.945736 analytic: -30.945736, relative error: 1.097532e-12\nnumerical: -51.538679 analytic: -51.538679, relative error: 3.507998e-13\nnumerical: -4.529225 analytic: -4.529225, relative error: 5.617366e-12\nnumerical: 22.429216 analytic: 22.429216, relative error: 3.632828e-13\nnumerical: 5.925594 analytic: 5.925594, relative error: 5.467558e-12\nnumerical: -4.873855 analytic: -4.873855, relative error: 1.163705e-11\nnumerical: 5.940897 analytic: 5.940897, relative error: 1.858091e-12\nnumerical: 15.007049 analytic: 15.007049, relative error: 6.120226e-13\nnumerical: -16.631277 analytic: -16.633871, relative error: 7.799109e-05\nnumerical: 16.333529 analytic: 16.333529, relative error: 9.495420e-13\nnumerical: -4.591394 analytic: -4.591394, relative error: 3.459846e-12\nnumerical: -35.347244 analytic: -35.347244, relative error: 4.022367e-13\nnumerical: -37.951730 analytic: -37.951730, relative error: 6.212987e-13\nnumerical: 17.535378 analytic: 17.535378, relative error: 1.619605e-12\nnumerical: 27.065691 analytic: 27.065691, relative error: 1.722428e-12\nnumerical: 0.149020 analytic: 0.149020, relative error: 5.615199e-11\nnumerical: 25.293208 analytic: 25.285250, relative error: 1.573380e-04\niteration 0 / 1500: loss 793.952895\n",
      "iteration 100 / 1500: loss 289.250552\n",
      "iteration 200 / 1500: loss 108.906845\n",
      "iteration 300 / 1500: loss 42.882817\n",
      "iteration 400 / 1500: loss 19.505335\n",
      "iteration 500 / 1500: loss 10.750846\n",
      "iteration 600 / 1500: loss 7.145714\n",
      "iteration 700 / 1500: loss 6.161691\n",
      "iteration 800 / 1500: loss 5.470026\n",
      "iteration 900 / 1500: loss 5.484183\n",
      "iteration 1000 / 1500: loss 5.061163\niteration 1100 / 1500: loss 5.740384\n",
      "iteration 1200 / 1500: loss 4.969252\n",
      "iteration 1300 / 1500: loss 5.346006\n",
      "iteration 1400 / 1500: loss 5.881013\n"
     ],
     "output_type": "stream"
    }
   ],
   "source": [
    "cifar10_dir = 'datasets/'\n",
    "X_train, y_train, X_test, y_test = load_CIFAR10(cifar10_dir)\n",
    "print('Training data shape: ', X_train)\n",
    "print('Training labels shape: ', y_train.shape)\n",
    "print('Test data shape: ', X_test.shape)\n",
    "print('Test labels shape: ', y_test.shape)\n",
    "\n",
    "\n",
    "num_training = 49000\n",
    "num_validation = 1000\n",
    "num_test = 1000\n",
    "num_dev = 500\n",
    "\n",
    "mask = range(num_training, num_training + num_validation)\n",
    "X_val = X_train[mask]\n",
    "y_val = y_train[mask]\n",
    "\n",
    "mask = range(num_training)\n",
    "X_train = X_train[mask]\n",
    "y_train = y_train[mask]\n",
    "\n",
    "mask = np.random.choice(num_training, num_dev, replace=False)\n",
    "X_dev = X_train[mask]\n",
    "y_dev = y_train[mask]\n",
    "\n",
    "mask = range(num_test)\n",
    "X_test = X_test[mask]\n",
    "y_test = y_test[mask]\n",
    "\n",
    "print('Train data shape: ', X_train.shape)\n",
    "print('Train labels shape: ', y_train.shape)\n",
    "print('Validation data shape: ', X_val.shape)\n",
    "print('Validation labels shape: ', y_val.shape)\n",
    "print('Test data shape: ', X_test.shape)\n",
    "print('Test labels shape: ', y_test.shape)\n",
    "\n",
    "\n",
    "X_train = np.reshape(X_train, (X_train.shape[0], -1))\n",
    "X_val = np.reshape(X_val, (X_val.shape[0], -1))\n",
    "X_test = np.reshape(X_test, (X_test.shape[0], -1))\n",
    "X_dev = np.reshape(X_dev, (X_dev.shape[0], -1))\n",
    "\n",
    "print('Training data shape: ', X_train.shape)\n",
    "print('Validation data shape: ', X_val.shape)\n",
    "print('Test data shape: ', X_test.shape)\n",
    "print('dev data shape: ', X_dev.shape)\n",
    "\n",
    "mean_image = np.mean(X_train, axis=0)\n",
    "\n",
    "X_train -= mean_image\n",
    "X_val -= mean_image\n",
    "X_test -= mean_image\n",
    "X_dev -= mean_image\n",
    "\n",
    "X_train = np.hstack([X_train, np.ones((X_train.shape[0], 1))])\n",
    "X_val = np.hstack([X_val, np.ones((X_val.shape[0], 1))])\n",
    "X_test = np.hstack([X_test, np.ones((X_test.shape[0], 1))])\n",
    "X_dev = np.hstack([X_dev, np.ones((X_dev.shape[0], 1))])\n",
    "\n",
    "print(X_train.shape, X_val.shape, X_test.shape, X_dev.shape)\n",
    "\n",
    "W = np.random.randn(3073, 10) * 0.0001\n",
    "\n",
    "loss, grad = svm_loss_vectorized(W, X_dev, y_dev, 0.0)\n",
    "\n",
    "f = lambda w: svm_loss_vectorized(w, X_dev, y_dev, 0.0)[0]\n",
    "grad_numerical = grad_check_sparse(f, W, grad)\n",
    "\n",
    "loss, grad = svm_loss_vectorized(W, X_dev, y_dev, 1e2)\n",
    "f = lambda w: svm_loss_vectorized(w, X_dev, y_dev, 1e2)[0]\n",
    "grad_numerical = grad_check_sparse(f, W, grad)\n",
    "\n",
    "\n",
    "svm = LinearSVM()\n",
    "\n",
    "loss_hist = svm.train(X_train, y_train, learning_rate=1e-7, reg=5e4,\n",
    "                      num_iters=1500, verbose=True)"
   ],
   "metadata": {
    "collapsed": false,
    "pycharm": {
     "name": "#%%\n",
     "is_executing": false
    }
   }
  },
  {
   "cell_type": "code",
   "execution_count": 6,
   "outputs": [
    {
     "data": {
      "text/plain": "<Figure size 432x288 with 1 Axes>",
      "image/png": "[encoded data removed]"
     },
     "metadata": {
      "needs_background": "light"
     },
     "output_type": "display_data"
    },
    {
     "name": "stdout",
     "text": [
      "training accuracy: 0.365980\nvalidation accuracy: 0.364000\n"
     ],
     "output_type": "stream"
    }
   ],
   "source": [
    "plt.plot(loss_hist)\n",
    "plt.xlabel('Iteration number')\n",
    "plt.ylabel('Loss value')\n",
    "plt.show()\n",
    "\n",
    "y_train_pred = svm.predict(X_train)\n",
    "print('training accuracy: %f' % (np.mean(y_train == y_train_pred), ))\n",
    "y_val_pred = svm.predict(X_val)\n",
    "print('validation accuracy: %f' % (np.mean(y_val == y_val_pred), ))\n",
    "\n",
    "\n",
    "\n",
    "\n"
   ],
   "metadata": {
    "collapsed": false,
    "pycharm": {
     "name": "#%%\n",
     "is_executing": false
    }
   }
  }
 ],
 "metadata": {
  "kernelspec": {
   "name": "pycharm-1b855516",
   "language": "python",
   "display_name": "PyCharm (Assignments)"
  },
  "language_info": {
   "codemirror_mode": {
    "name": "ipython",
    "version": 2
   },
   "file_extension": ".py",
   "mimetype": "text/x-python",
   "name": "python",
   "nbconvert_exporter": "python",
   "pygments_lexer": "ipython2",
   "version": "2.7.6"
  },
  "pycharm": {
   "stem_cell": {
    "cell_type": "raw",
    "source": [],
    "metadata": {
     "collapsed": false
    }
   }
  }
 },
 "nbformat": 4,
 "nbformat_minor": 0
}